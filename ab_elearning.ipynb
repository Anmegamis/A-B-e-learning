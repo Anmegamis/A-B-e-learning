{
 "cells": [
  {
   "cell_type": "code",
   "execution_count": 1,
   "metadata": {},
   "outputs": [
    {
     "name": "stderr",
     "output_type": "stream",
     "text": [
      "/opt/tljh/user/lib/python3.7/site-packages/outdated/utils.py:18: OutdatedCacheFailedWarning: Failed to use cache while checking for outdated package.\n",
      "Set the environment variable OUTDATED_RAISE_EXCEPTION=1 for a full traceback.\n",
      "Set the environment variable OUTDATED_IGNORE=1 to disable these warnings.\n",
      "  **kwargs\n",
      "/opt/tljh/user/lib/python3.7/site-packages/outdated/utils.py:18: OutdatedPackageWarning: The package outdated is out of date. Your version is 0.2.1, the latest is 0.2.2.\n",
      "Set the environment variable OUTDATED_IGNORE=1 to disable these warnings.\n",
      "  **kwargs\n",
      "/opt/tljh/user/lib/python3.7/site-packages/outdated/utils.py:18: OutdatedPackageWarning: The package pingouin is out of date. Your version is 0.4.0, the latest is 0.5.4.\n",
      "Set the environment variable OUTDATED_IGNORE=1 to disable these warnings.\n",
      "  **kwargs\n"
     ]
    }
   ],
   "source": [
    "import pandas as pd\n",
    "import numpy as np\n",
    "import requests\n",
    "from urllib.parse import urlencode\n",
    "import re\n",
    "import seaborn as sns\n",
    "import matplotlib.pyplot as plt\n",
    "import matplotlib.dates as mdates\n",
    "import pingouin as pg\n",
    "import scipy\n",
    "import pandahouse as ph"
   ]
  },
  {
   "cell_type": "markdown",
   "metadata": {},
   "source": [
    "# Задание 1. A/B–тестирование"
   ]
  },
  {
   "cell_type": "markdown",
   "metadata": {},
   "source": [
    "## Загрузка данных"
   ]
  },
  {
   "cell_type": "markdown",
   "metadata": {},
   "source": [
    "Решила написать функцию которая будет автоматически выгружать файлы по списку ссылок и присваивать им нужные имена переменных) Правда паттерн получился тоже специфический для этого задания, но если что в дальнейщем можно убрать то, что идет между = и группой."
   ]
  },
  {
   "cell_type": "code",
   "execution_count": 2,
   "metadata": {},
   "outputs": [
    {
     "data": {
      "text/plain": [
       "['groups', 'group_add', 'active_studs', 'checks']"
      ]
     },
     "execution_count": 2,
     "metadata": {},
     "output_type": "execute_result"
    }
   ],
   "source": [
    "base_url = 'https://cloud-api.yandex.net/v1/disk/public/resources/download?'\n",
    "file_urls = ['https://disk.yandex.ru/d/UhyYx41rTt3clQ', \n",
    "             'https://disk.yandex.ru/d/5Kxrz02m3IBUwQ', \n",
    "             'https://disk.yandex.ru/d/Tbs44Bm6H_FwFQ', \n",
    "             'https://disk.yandex.ru/d/pH1q-VqcxXjsVA']\n",
    "# паттерн для определения имени файла\n",
    "p = re.compile(r'filename=%D0%9F%D1%80%D0%BE%D0%B5%D0%BA%D1%82_2_(.*).csv')\n",
    "\n",
    "table_names = []\n",
    "for url in file_urls:\n",
    "    response = requests.get(base_url + urlencode(dict(public_key=url))).json()['href'] # делаем запрос\n",
    "    table_names.append(p.search(response).group(1)) # сохраняем имя таблицы\n",
    "    # используем 'w' как разделитель чтобы получить неразделенные данные и выделить настоящий разделитель, \n",
    "    # затем получаем первое значение из таблицы\n",
    "    first_value = pd.read_csv(response, sep='w').iloc[:,0][0]\n",
    "    \n",
    "    # определяем разлеоитель, если в таблице один столбец, переходим к блоку except и читаем без указания разделителя\n",
    "    try:\n",
    "        sep = re.compile('([,;\\\\t])').search(first_value).group(1)\n",
    "        locals()[table_names[-1]] = pd.read_csv(response, sep=sep)\n",
    "    except:\n",
    "        locals()[table_names[-1]] = pd.read_csv(response)\n",
    "\n",
    "# смотрим какие таблицы выгрузились    \n",
    "table_names"
   ]
  },
  {
   "cell_type": "markdown",
   "metadata": {},
   "source": [
    "## Исследование данных"
   ]
  },
  {
   "cell_type": "code",
   "execution_count": 3,
   "metadata": {},
   "outputs": [
    {
     "data": {
      "text/html": [
       "<div>\n",
       "<style scoped>\n",
       "    .dataframe tbody tr th:only-of-type {\n",
       "        vertical-align: middle;\n",
       "    }\n",
       "\n",
       "    .dataframe tbody tr th {\n",
       "        vertical-align: top;\n",
       "    }\n",
       "\n",
       "    .dataframe thead th {\n",
       "        text-align: right;\n",
       "    }\n",
       "</style>\n",
       "<table border=\"1\" class=\"dataframe\">\n",
       "  <thead>\n",
       "    <tr style=\"text-align: right;\">\n",
       "      <th></th>\n",
       "      <th>id</th>\n",
       "      <th>grp</th>\n",
       "    </tr>\n",
       "  </thead>\n",
       "  <tbody>\n",
       "    <tr>\n",
       "      <th>0</th>\n",
       "      <td>1489</td>\n",
       "      <td>B</td>\n",
       "    </tr>\n",
       "    <tr>\n",
       "      <th>1</th>\n",
       "      <td>1627</td>\n",
       "      <td>A</td>\n",
       "    </tr>\n",
       "    <tr>\n",
       "      <th>2</th>\n",
       "      <td>1768</td>\n",
       "      <td>B</td>\n",
       "    </tr>\n",
       "    <tr>\n",
       "      <th>3</th>\n",
       "      <td>1783</td>\n",
       "      <td>B</td>\n",
       "    </tr>\n",
       "    <tr>\n",
       "      <th>4</th>\n",
       "      <td>1794</td>\n",
       "      <td>A</td>\n",
       "    </tr>\n",
       "  </tbody>\n",
       "</table>\n",
       "</div>"
      ],
      "text/plain": [
       "     id grp\n",
       "0  1489   B\n",
       "1  1627   A\n",
       "2  1768   B\n",
       "3  1783   B\n",
       "4  1794   A"
      ]
     },
     "execution_count": 3,
     "metadata": {},
     "output_type": "execute_result"
    }
   ],
   "source": [
    "groups.head()"
   ]
  },
  {
   "cell_type": "markdown",
   "metadata": {},
   "source": [
    "Таблица содержит информацию о распределении студентов по группа: А - контрольная, В - экспериментальная\n",
    "\n",
    "Посмотрим на размеры групп"
   ]
  },
  {
   "cell_type": "code",
   "execution_count": 4,
   "metadata": {},
   "outputs": [
    {
     "data": {
      "text/plain": [
       "B    59813\n",
       "A    14671\n",
       "Name: grp, dtype: int64"
      ]
     },
     "execution_count": 4,
     "metadata": {},
     "output_type": "execute_result"
    }
   ],
   "source": [
    "groups.grp.value_counts()"
   ]
  },
  {
   "cell_type": "markdown",
   "metadata": {},
   "source": [
    "Экспериментальная группа больше контрольной более чем в 4 раза, что является достаточно странным решением\n",
    "\n",
    "Посмотрим на вторую таблицу, содержащую информацию о дополнительных участниках и их группах "
   ]
  },
  {
   "cell_type": "code",
   "execution_count": 5,
   "metadata": {},
   "outputs": [
    {
     "data": {
      "text/html": [
       "<div>\n",
       "<style scoped>\n",
       "    .dataframe tbody tr th:only-of-type {\n",
       "        vertical-align: middle;\n",
       "    }\n",
       "\n",
       "    .dataframe tbody tr th {\n",
       "        vertical-align: top;\n",
       "    }\n",
       "\n",
       "    .dataframe thead th {\n",
       "        text-align: right;\n",
       "    }\n",
       "</style>\n",
       "<table border=\"1\" class=\"dataframe\">\n",
       "  <thead>\n",
       "    <tr style=\"text-align: right;\">\n",
       "      <th></th>\n",
       "      <th>id</th>\n",
       "      <th>grp</th>\n",
       "    </tr>\n",
       "  </thead>\n",
       "  <tbody>\n",
       "    <tr>\n",
       "      <th>0</th>\n",
       "      <td>5694584</td>\n",
       "      <td>B</td>\n",
       "    </tr>\n",
       "    <tr>\n",
       "      <th>1</th>\n",
       "      <td>5694830</td>\n",
       "      <td>B</td>\n",
       "    </tr>\n",
       "    <tr>\n",
       "      <th>2</th>\n",
       "      <td>5695057</td>\n",
       "      <td>B</td>\n",
       "    </tr>\n",
       "    <tr>\n",
       "      <th>3</th>\n",
       "      <td>5698872</td>\n",
       "      <td>B</td>\n",
       "    </tr>\n",
       "    <tr>\n",
       "      <th>4</th>\n",
       "      <td>5699067</td>\n",
       "      <td>B</td>\n",
       "    </tr>\n",
       "  </tbody>\n",
       "</table>\n",
       "</div>"
      ],
      "text/plain": [
       "        id grp\n",
       "0  5694584   B\n",
       "1  5694830   B\n",
       "2  5695057   B\n",
       "3  5698872   B\n",
       "4  5699067   B"
      ]
     },
     "execution_count": 5,
     "metadata": {},
     "output_type": "execute_result"
    }
   ],
   "source": [
    "group_add.head()"
   ]
  },
  {
   "cell_type": "markdown",
   "metadata": {},
   "source": [
    "Посмотрим сколько и из каких групп добавилось"
   ]
  },
  {
   "cell_type": "code",
   "execution_count": 6,
   "metadata": {},
   "outputs": [
    {
     "data": {
      "text/plain": [
       "B    70\n",
       "A    22\n",
       "Name: grp, dtype: int64"
      ]
     },
     "execution_count": 6,
     "metadata": {},
     "output_type": "execute_result"
    }
   ],
   "source": [
    "group_add.grp.value_counts()"
   ]
  },
  {
   "cell_type": "markdown",
   "metadata": {},
   "source": [
    "Посмотрим на таблицу со студентами, которые были активными во время эксперимента, а также на размер этой таблицы"
   ]
  },
  {
   "cell_type": "code",
   "execution_count": 7,
   "metadata": {},
   "outputs": [
    {
     "data": {
      "text/html": [
       "<div>\n",
       "<style scoped>\n",
       "    .dataframe tbody tr th:only-of-type {\n",
       "        vertical-align: middle;\n",
       "    }\n",
       "\n",
       "    .dataframe tbody tr th {\n",
       "        vertical-align: top;\n",
       "    }\n",
       "\n",
       "    .dataframe thead th {\n",
       "        text-align: right;\n",
       "    }\n",
       "</style>\n",
       "<table border=\"1\" class=\"dataframe\">\n",
       "  <thead>\n",
       "    <tr style=\"text-align: right;\">\n",
       "      <th></th>\n",
       "      <th>student_id</th>\n",
       "    </tr>\n",
       "  </thead>\n",
       "  <tbody>\n",
       "    <tr>\n",
       "      <th>0</th>\n",
       "      <td>581585</td>\n",
       "    </tr>\n",
       "    <tr>\n",
       "      <th>1</th>\n",
       "      <td>5723133</td>\n",
       "    </tr>\n",
       "    <tr>\n",
       "      <th>2</th>\n",
       "      <td>3276743</td>\n",
       "    </tr>\n",
       "    <tr>\n",
       "      <th>3</th>\n",
       "      <td>4238589</td>\n",
       "    </tr>\n",
       "    <tr>\n",
       "      <th>4</th>\n",
       "      <td>4475369</td>\n",
       "    </tr>\n",
       "  </tbody>\n",
       "</table>\n",
       "</div>"
      ],
      "text/plain": [
       "   student_id\n",
       "0      581585\n",
       "1     5723133\n",
       "2     3276743\n",
       "3     4238589\n",
       "4     4475369"
      ]
     },
     "execution_count": 7,
     "metadata": {},
     "output_type": "execute_result"
    }
   ],
   "source": [
    "active_studs.head()"
   ]
  },
  {
   "cell_type": "code",
   "execution_count": 8,
   "metadata": {},
   "outputs": [
    {
     "data": {
      "text/plain": [
       "(8341, 1)"
      ]
     },
     "execution_count": 8,
     "metadata": {},
     "output_type": "execute_result"
    }
   ],
   "source": [
    "active_studs.shape"
   ]
  },
  {
   "cell_type": "markdown",
   "metadata": {},
   "source": [
    "8341 активный студент на период проведения теста, посмотрим есть ли повторения id если студент был активен не один раз"
   ]
  },
  {
   "cell_type": "code",
   "execution_count": 9,
   "metadata": {},
   "outputs": [
    {
     "data": {
      "text/plain": [
       "0"
      ]
     },
     "execution_count": 9,
     "metadata": {},
     "output_type": "execute_result"
    }
   ],
   "source": [
    "active_studs.duplicated().sum()"
   ]
  },
  {
   "cell_type": "markdown",
   "metadata": {},
   "source": [
    "Повторений нет\n",
    "\n",
    "Также надо проверить, есть ли среди активных студентов id из дополнительного списка"
   ]
  },
  {
   "cell_type": "code",
   "execution_count": 10,
   "metadata": {},
   "outputs": [
    {
     "data": {
      "text/plain": [
       "13"
      ]
     },
     "execution_count": 10,
     "metadata": {},
     "output_type": "execute_result"
    }
   ],
   "source": [
    "group_add.id.isin(active_studs.student_id).sum()"
   ]
  },
  {
   "cell_type": "markdown",
   "metadata": {},
   "source": [
    "Да, 13 человек из дополнительного списка были активны во время эксперимента\n",
    "\n",
    "Посмотрим на таблицу с информацией об оплатах пользователей в дни проведения эксперимента"
   ]
  },
  {
   "cell_type": "code",
   "execution_count": 11,
   "metadata": {},
   "outputs": [
    {
     "data": {
      "text/html": [
       "<div>\n",
       "<style scoped>\n",
       "    .dataframe tbody tr th:only-of-type {\n",
       "        vertical-align: middle;\n",
       "    }\n",
       "\n",
       "    .dataframe tbody tr th {\n",
       "        vertical-align: top;\n",
       "    }\n",
       "\n",
       "    .dataframe thead th {\n",
       "        text-align: right;\n",
       "    }\n",
       "</style>\n",
       "<table border=\"1\" class=\"dataframe\">\n",
       "  <thead>\n",
       "    <tr style=\"text-align: right;\">\n",
       "      <th></th>\n",
       "      <th>student_id</th>\n",
       "      <th>rev</th>\n",
       "    </tr>\n",
       "  </thead>\n",
       "  <tbody>\n",
       "    <tr>\n",
       "      <th>0</th>\n",
       "      <td>1627</td>\n",
       "      <td>990.0</td>\n",
       "    </tr>\n",
       "    <tr>\n",
       "      <th>1</th>\n",
       "      <td>3185</td>\n",
       "      <td>690.0</td>\n",
       "    </tr>\n",
       "    <tr>\n",
       "      <th>2</th>\n",
       "      <td>25973</td>\n",
       "      <td>690.0</td>\n",
       "    </tr>\n",
       "    <tr>\n",
       "      <th>3</th>\n",
       "      <td>26280</td>\n",
       "      <td>690.0</td>\n",
       "    </tr>\n",
       "    <tr>\n",
       "      <th>4</th>\n",
       "      <td>100300</td>\n",
       "      <td>990.0</td>\n",
       "    </tr>\n",
       "  </tbody>\n",
       "</table>\n",
       "</div>"
      ],
      "text/plain": [
       "   student_id    rev\n",
       "0        1627  990.0\n",
       "1        3185  690.0\n",
       "2       25973  690.0\n",
       "3       26280  690.0\n",
       "4      100300  990.0"
      ]
     },
     "execution_count": 11,
     "metadata": {},
     "output_type": "execute_result"
    }
   ],
   "source": [
    "checks.head()"
   ]
  },
  {
   "cell_type": "markdown",
   "metadata": {},
   "source": [
    "Посмотрим были ли люди которые делали более одной покупки"
   ]
  },
  {
   "cell_type": "code",
   "execution_count": 12,
   "metadata": {},
   "outputs": [
    {
     "data": {
      "text/plain": [
       "student_id\n",
       "5740903    1\n",
       "1281916    1\n",
       "1160511    1\n",
       "1182574    1\n",
       "1184303    1\n",
       "dtype: int64"
      ]
     },
     "execution_count": 12,
     "metadata": {},
     "output_type": "execute_result"
    }
   ],
   "source": [
    "checks.groupby('student_id').size().sort_values(ascending=False).head()"
   ]
  },
  {
   "cell_type": "markdown",
   "metadata": {},
   "source": [
    "Нет таких студентов\n",
    "\n",
    "Скорее всего в данной таблице содержатся суммы всех покупок за период проведения эксперимента, так как удивительно что нет ни одного человека, который сделал бы больше одной покупки, но нужно это проверить.\n",
    "\n",
    "Посмотрим какие есть уникальные значения и сколько раз они повторяются"
   ]
  },
  {
   "cell_type": "code",
   "execution_count": 13,
   "metadata": {
    "scrolled": true
   },
   "outputs": [
    {
     "data": {
      "text/plain": [
       "rev\n",
       "1900.0000    97\n",
       "290.0000     94\n",
       "690.0000     78\n",
       "199.0000     46\n",
       "990.0000     41\n",
       "1900.0001    36\n",
       "840.0000     27\n",
       "1140.0000    25\n",
       "580.0000     15\n",
       "590.0000     11\n",
       "398.0000      9\n",
       "1530.0000     8\n",
       "870.0000      6\n",
       "3660.0000     5\n",
       "1980.0000     4\n",
       "2910.0000     4\n",
       "2890.0000     4\n",
       "1160.0000     3\n",
       "489.0000      3\n",
       "2099.0000     3\n",
       "1180.0000     2\n",
       "2220.0000     2\n",
       "2820.0000     2\n",
       "630.0000      1\n",
       "796.0000      1\n",
       "597.0000      1\n",
       "4650.0000     1\n",
       "880.0000      1\n",
       "1039.0000     1\n",
       "1050.0000     1\n",
       "1388.0000     1\n",
       "1729.0000     1\n",
       "1830.0000     1\n",
       "1968.0000     1\n",
       "2190.0000     1\n",
       "2900.0000     1\n",
       "3040.0000     1\n",
       "3260.0000     1\n",
       "1339.0000     1\n",
       "dtype: int64"
      ]
     },
     "execution_count": 13,
     "metadata": {},
     "output_type": "execute_result"
    }
   ],
   "source": [
    "checks.groupby('rev').size().sort_values(ascending=False)"
   ]
  },
  {
   "cell_type": "markdown",
   "metadata": {},
   "source": [
    "Так как суммы являются не \"ровными\", то есть не похожими на стоимость конкретной услуги, при этом такие значения встречаются по 1 разу, можем предположить что переменная rev содержит информацию о сумме всех покупок сделанных за период, либо же если одна покупка содержала несколько товаров. В целом, это могут быть как первые, так и вторые случаи, а то, что мы можем сказать точно, это то, что данная переменная содержит сумму по всем покупкам товаров за период проведения теста. "
   ]
  },
  {
   "cell_type": "markdown",
   "metadata": {},
   "source": [
    "Также во время исследования данных была обнаружена аномалия: "
   ]
  },
  {
   "cell_type": "code",
   "execution_count": 14,
   "metadata": {},
   "outputs": [
    {
     "data": {
      "text/plain": [
       "(540, 4)"
      ]
     },
     "execution_count": 14,
     "metadata": {},
     "output_type": "execute_result"
    }
   ],
   "source": [
    "groups.merge(checks, left_on='id', right_on='student_id').shape"
   ]
  },
  {
   "cell_type": "code",
   "execution_count": 15,
   "metadata": {},
   "outputs": [
    {
     "data": {
      "text/plain": [
       "(392, 2)"
      ]
     },
     "execution_count": 15,
     "metadata": {},
     "output_type": "execute_result"
    }
   ],
   "source": [
    "active_studs.merge(checks, on='student_id').shape"
   ]
  },
  {
   "cell_type": "markdown",
   "metadata": {},
   "source": [
    "Если соединять таблицы с распределением по группам и покупками на период эксперимента, то получается, что 540 человек участвующих в эксперименте делали покупки, но если соединять таблицу активных пользователей на период эксперимента с таблицей покупок, то получается 392 человека, которые были активны и сделали покупки. Это какжется невозможным, так как выходит, что некоторые пользователи совершали покупки не заходя на платформу, скорее всего в данных баг и это нужно учитывать при последующей обработке данных.\n",
    "\n",
    "Теперь определим метрики, которые мы будем оценивать"
   ]
  },
  {
   "cell_type": "markdown",
   "metadata": {},
   "source": [
    "## Определение метрик\n",
    "\n",
    "В качестве метрик мы будем использовать:\n",
    "1. ARPPU - средее количество потраченных активными пользователями денег за период эксперимента, т.к. удобство механики может сподвигать пользователей делать более дорогостоящие покупки, или в принципе больше покупок, учитывая что наши данные содержат информацию о сумме потраченных денег за все покупки\n",
    "2. CR в покупку - отношение количества пользователей совершивших покупку ко всем пользователям в группе, т.к. более удобная механика может мотивировать пользователя доходить до конца на этапе совершения покупки"
   ]
  },
  {
   "cell_type": "markdown",
   "metadata": {},
   "source": [
    "## Предобработка данных"
   ]
  },
  {
   "cell_type": "markdown",
   "metadata": {},
   "source": [
    "Создадим основную таблицу, с которой дальше будем работать. У нас имеется таблица с дополнительными пользователями, но так как для нее есть отдельное задание, где нужно будет создать функцию, которая будет подгружать эти данные и пересчитывать метрики, в данном задании не будем учитывать этих дополнительных юзеров. Однако, предврительное исследование данных показало, что в таблице с активными пользователями содержатся данные о дополнительных пользователях, а также данная таблица не содержит данные о некоторых пользователях, которые делали покупки и соответственно были активными. Исходя из этого, будет целесообразным сначала соединить таблицу с группами с таблицей с чеками, а потом добавить информацию об активности"
   ]
  },
  {
   "cell_type": "code",
   "execution_count": 13,
   "metadata": {},
   "outputs": [
    {
     "data": {
      "text/plain": [
       "(540, 3)"
      ]
     },
     "execution_count": 13,
     "metadata": {},
     "output_type": "execute_result"
    }
   ],
   "source": [
    "# соединяем таблицы, отбирая участников эксперимента только из основного файла\n",
    "data = checks.rename(columns={'student_id': 'id'}) \\\n",
    "    .merge(groups, on='id', how='right') \\\n",
    "    .merge(active_studs, left_on= 'id', right_on='student_id', how='left') \n",
    "\n",
    "# определяем активных юзеров как тех, кто либо есть в списке активных, либо совершил покупку, либо все вместе \n",
    "# и убераем всех остальных, так как неактивные юзеры для дальнейшего анализа нам не нужны, также убираем лишнюю колонку\n",
    "data = data[-(pd.isna(data.rev) & pd.isna(data.student_id))].drop(columns='student_id')\n",
    "\n",
    "# проверяем все ли юзеры, совершившие покупку, сохранились\n",
    "data.dropna().shape"
   ]
  },
  {
   "cell_type": "markdown",
   "metadata": {},
   "source": [
    "Добавим также столбец для обозначения того, сконвертировался ли пользователь в покупку"
   ]
  },
  {
   "cell_type": "code",
   "execution_count": 14,
   "metadata": {},
   "outputs": [
    {
     "data": {
      "text/html": [
       "<div>\n",
       "<style scoped>\n",
       "    .dataframe tbody tr th:only-of-type {\n",
       "        vertical-align: middle;\n",
       "    }\n",
       "\n",
       "    .dataframe tbody tr th {\n",
       "        vertical-align: top;\n",
       "    }\n",
       "\n",
       "    .dataframe thead th {\n",
       "        text-align: right;\n",
       "    }\n",
       "</style>\n",
       "<table border=\"1\" class=\"dataframe\">\n",
       "  <thead>\n",
       "    <tr style=\"text-align: right;\">\n",
       "      <th></th>\n",
       "      <th>id</th>\n",
       "      <th>rev</th>\n",
       "      <th>grp</th>\n",
       "      <th>conversed</th>\n",
       "    </tr>\n",
       "  </thead>\n",
       "  <tbody>\n",
       "    <tr>\n",
       "      <th>1</th>\n",
       "      <td>1627</td>\n",
       "      <td>990.0</td>\n",
       "      <td>A</td>\n",
       "      <td>1</td>\n",
       "    </tr>\n",
       "    <tr>\n",
       "      <th>10</th>\n",
       "      <td>2085</td>\n",
       "      <td>NaN</td>\n",
       "      <td>B</td>\n",
       "      <td>0</td>\n",
       "    </tr>\n",
       "    <tr>\n",
       "      <th>12</th>\n",
       "      <td>2215</td>\n",
       "      <td>NaN</td>\n",
       "      <td>B</td>\n",
       "      <td>0</td>\n",
       "    </tr>\n",
       "    <tr>\n",
       "      <th>39</th>\n",
       "      <td>3185</td>\n",
       "      <td>690.0</td>\n",
       "      <td>B</td>\n",
       "      <td>1</td>\n",
       "    </tr>\n",
       "    <tr>\n",
       "      <th>43</th>\n",
       "      <td>3391</td>\n",
       "      <td>NaN</td>\n",
       "      <td>A</td>\n",
       "      <td>0</td>\n",
       "    </tr>\n",
       "  </tbody>\n",
       "</table>\n",
       "</div>"
      ],
      "text/plain": [
       "      id    rev grp  conversed\n",
       "1   1627  990.0   A          1\n",
       "10  2085    NaN   B          0\n",
       "12  2215    NaN   B          0\n",
       "39  3185  690.0   B          1\n",
       "43  3391    NaN   A          0"
      ]
     },
     "execution_count": 14,
     "metadata": {},
     "output_type": "execute_result"
    }
   ],
   "source": [
    "data['conversed'] = data.apply(lambda x: 0 if pd.isna(x.rev) else 1, axis=1)\n",
    "data.head()"
   ]
  },
  {
   "cell_type": "markdown",
   "metadata": {},
   "source": [
    "Данная таблица итоговая, работать будем уже с ней"
   ]
  },
  {
   "cell_type": "markdown",
   "metadata": {},
   "source": [
    "## Проверка гипотез\n",
    "\n",
    "#### 1. ARPPU"
   ]
  },
  {
   "cell_type": "markdown",
   "metadata": {},
   "source": [
    "Здесь будем учитывать только тех, кто совершал покупки\n",
    "\n",
    "Чтобы принять решение, какой статистический тест использовать, посмотрим сначала на распределения"
   ]
  },
  {
   "cell_type": "code",
   "execution_count": 20,
   "metadata": {},
   "outputs": [
    {
     "data": {
      "text/plain": [
       "<seaborn.axisgrid.FacetGrid at 0x7f8d7240ccc0>"
      ]
     },
     "execution_count": 20,
     "metadata": {},
     "output_type": "execute_result"
    },
    {
     "data": {
      "image/png": "[encoded data removed]",
      "text/plain": [
       "<Figure size 402.875x360 with 1 Axes>"
      ]
     },
     "metadata": {
      "needs_background": "light"
     },
     "output_type": "display_data"
    }
   ],
   "source": [
    "sns.displot(data = data, x='rev', hue='grp', bins=19)"
   ]
  },
  {
   "cell_type": "markdown",
   "metadata": {},
   "source": [
    "Выборка достаточно большая, но распределения далеко не нормальные, поэтому лучше использовать бутстрап в данном случае"
   ]
  },
  {
   "cell_type": "code",
   "execution_count": 15,
   "metadata": {},
   "outputs": [
    {
     "data": {
      "text/html": [
       "<div>\n",
       "<style scoped>\n",
       "    .dataframe tbody tr th:only-of-type {\n",
       "        vertical-align: middle;\n",
       "    }\n",
       "\n",
       "    .dataframe tbody tr th {\n",
       "        vertical-align: top;\n",
       "    }\n",
       "\n",
       "    .dataframe thead th {\n",
       "        text-align: right;\n",
       "    }\n",
       "</style>\n",
       "<table border=\"1\" class=\"dataframe\">\n",
       "  <thead>\n",
       "    <tr style=\"text-align: right;\">\n",
       "      <th></th>\n",
       "      <th>rev</th>\n",
       "    </tr>\n",
       "    <tr>\n",
       "      <th>grp</th>\n",
       "      <th></th>\n",
       "    </tr>\n",
       "  </thead>\n",
       "  <tbody>\n",
       "    <tr>\n",
       "      <th>A</th>\n",
       "      <td>860.710280</td>\n",
       "    </tr>\n",
       "    <tr>\n",
       "      <th>B</th>\n",
       "      <td>1106.997699</td>\n",
       "    </tr>\n",
       "  </tbody>\n",
       "</table>\n",
       "</div>"
      ],
      "text/plain": [
       "             rev\n",
       "grp             \n",
       "A     860.710280\n",
       "B    1106.997699"
      ]
     },
     "execution_count": 15,
     "metadata": {},
     "output_type": "execute_result"
    }
   ],
   "source": [
    "data.groupby('grp').agg({'rev': 'mean'})"
   ]
  },
  {
   "cell_type": "markdown",
   "metadata": {},
   "source": [
    "Н0: Средние двух групп равны\n",
    "\n",
    "Н1: Средние двух групп различаются"
   ]
  },
  {
   "cell_type": "code",
   "execution_count": 17,
   "metadata": {},
   "outputs": [
    {
     "data": {
      "text/plain": [
       "array([-446.42, -161.91])"
      ]
     },
     "execution_count": 17,
     "metadata": {},
     "output_type": "execute_result"
    }
   ],
   "source": [
    "# Создание двух выборок данных\n",
    "data_A = data.dropna().query('grp == \"A\"').rev\n",
    "data_B = data.dropna().query('grp == \"B\"').rev\n",
    "\n",
    "# Функция для оценки разности медиан\n",
    "def mean_difference(data1, data2):\n",
    "    return np.mean(data1) - np.mean(data2)\n",
    "\n",
    "pg.compute_bootci(x=data_A, y=data_B, func=mean_difference)"
   ]
  },
  {
   "cell_type": "markdown",
   "metadata": {},
   "source": [
    "Доверительный интервал не включает 0, поэтому можем отвергнуть нулевую гипотезу и утверждать, что средние статистически значимо отличаются"
   ]
  },
  {
   "cell_type": "markdown",
   "metadata": {},
   "source": [
    "#### 2. CR в покупку"
   ]
  },
  {
   "cell_type": "markdown",
   "metadata": {},
   "source": [
    "Посмотрим на конверсию в группах"
   ]
  },
  {
   "cell_type": "code",
   "execution_count": 20,
   "metadata": {},
   "outputs": [
    {
     "data": {
      "text/html": [
       "<div>\n",
       "<style scoped>\n",
       "    .dataframe tbody tr th:only-of-type {\n",
       "        vertical-align: middle;\n",
       "    }\n",
       "\n",
       "    .dataframe tbody tr th {\n",
       "        vertical-align: top;\n",
       "    }\n",
       "\n",
       "    .dataframe thead th {\n",
       "        text-align: right;\n",
       "    }\n",
       "</style>\n",
       "<table border=\"1\" class=\"dataframe\">\n",
       "  <thead>\n",
       "    <tr style=\"text-align: right;\">\n",
       "      <th></th>\n",
       "      <th>conversed</th>\n",
       "    </tr>\n",
       "    <tr>\n",
       "      <th>grp</th>\n",
       "      <th></th>\n",
       "    </tr>\n",
       "  </thead>\n",
       "  <tbody>\n",
       "    <tr>\n",
       "      <th>A</th>\n",
       "      <td>0.068414</td>\n",
       "    </tr>\n",
       "    <tr>\n",
       "      <th>B</th>\n",
       "      <td>0.062636</td>\n",
       "    </tr>\n",
       "  </tbody>\n",
       "</table>\n",
       "</div>"
      ],
      "text/plain": [
       "     conversed\n",
       "grp           \n",
       "A     0.068414\n",
       "B     0.062636"
      ]
     },
     "execution_count": 20,
     "metadata": {},
     "output_type": "execute_result"
    }
   ],
   "source": [
    "data.groupby('grp').agg({'conversed': 'mean'})"
   ]
  },
  {
   "cell_type": "markdown",
   "metadata": {},
   "source": [
    "Для статистической оценки различия в конверсиях будем использовать таблицу сопряженности и критерий хи-квадрат\n",
    "\n",
    "H0: В выборках отсутствуют различия в распределении частот\n",
    "\n",
    "Н1: В выборках существуют различия в распределении частот"
   ]
  },
  {
   "cell_type": "code",
   "execution_count": 21,
   "metadata": {},
   "outputs": [
    {
     "data": {
      "text/plain": [
       "(conversed            0           1\n",
       " grp                               \n",
       " A          1464.370414   99.629586\n",
       " B          6472.629586  440.370414,\n",
       " conversed       0      1\n",
       " grp                     \n",
       " A          1457.5  106.5\n",
       " B          6479.5  433.5,\n",
       "                  test    lambda      chi2  dof      pval    cramer     power\n",
       " 0             pearson  1.000000  0.620496  1.0  0.430863  0.008556  0.123550\n",
       " 1        cressie-read  0.666667  0.617149  1.0  0.432109  0.008532  0.123143\n",
       " 2      log-likelihood  0.000000  0.610576  1.0  0.434571  0.008487  0.122344\n",
       " 3       freeman-tukey -0.500000  0.605748  1.0  0.436393  0.008453  0.121757\n",
       " 4  mod-log-likelihood -1.000000  0.601007  1.0  0.438194  0.008420  0.121182\n",
       " 5              neyman -2.000000  0.591775  1.0  0.441734  0.008355  0.120061)"
      ]
     },
     "execution_count": 21,
     "metadata": {},
     "output_type": "execute_result"
    }
   ],
   "source": [
    "pg.chi2_independence(data, x='grp', y='conversed')"
   ]
  },
  {
   "cell_type": "markdown",
   "metadata": {},
   "source": [
    "Так как уровень значимости больше 0.05, мы не можем отвергнуть нулевую гипотезу, а значит распределения частот в группах одинаковое"
   ]
  },
  {
   "cell_type": "markdown",
   "metadata": {},
   "source": [
    "## Выводы\n",
    "\n",
    "**Описание результатов:**\n",
    "\n",
    "Различия в контрольной и тестовой группе обнаружены по метрике ARPPU. Однако, конверсия в покупку не изменилась.\n",
    "\n",
    "Таким образом, напрашивается вывод, что покупатели, которые использовали новую механику оплаты услуг покупали больше, что может говорить об удобстве такой механики для клиентов. В то же время, остальные студенты по всей видимости не имели информации о новой механике и поэтому конверсия в покупку не изменилась.\n",
    "\n",
    "В целом, использование новой механики выглядит достаточно эффективным, однако, сам АБ-тест выстроен недостаточно грамотно, например, выборка несбалансированная с перекосом в экспериментальную группу, что может приводить к неточным результатам. Также,хотелось бы проверить другие метрики, такие как: конверсия из добавления в карзину в покупку, количество повторных покупок, конверсия из оформления заказа в оплату и так далее, в зависимости от того, какие изменения в механике оплаты произошли.\n",
    "\n",
    "Также, в данных был обнаружен баг в отображении активности пользователей, что также может привести к искаженным результатам.\n",
    "\n",
    "**Основные рекомендации:** починить баг, подобрать более подходящие метрики и соответствующие данные, сбалансировать выборки и провести тест снова. Хотя настоящий тест и дал положительный результат, я бы не рекомендовала пока распространять изменения на всех пользователей."
   ]
  },
  {
   "cell_type": "markdown",
   "metadata": {},
   "source": [
    "# Задание 2. SQL\n",
    "\n",
    "## 2.1 Очень усердные ученики"
   ]
  },
  {
   "cell_type": "code",
   "execution_count": 32,
   "metadata": {},
   "outputs": [],
   "source": [
    "connection = {'host': 'https://clickhouse.lab.karpov.courses',\n",
    "                      'database':'default',\n",
    "                      'user':'student', \n",
    "                      'password':'dpo_python_2020'}"
   ]
  },
  {
   "cell_type": "markdown",
   "metadata": {},
   "source": [
    "Условие:\n",
    "\n",
    "Образовательные курсы состоят из различных уроков, каждый из которых состоит из нескольких маленьких заданий. Каждое такое маленькое задание называется \"горошиной\".\n",
    "\n",
    "Назовём очень усердным учеником того пользователя, который хотя бы раз за текущий месяц правильно решил 20 горошин.\n",
    "\n",
    "Необходимо написать оптимальный запрос, который даст информацию о количестве очень усердных студентов.NB! Под усердным студентом мы понимаем студента, который правильно решил 20 задач за текущий месяц."
   ]
  },
  {
   "cell_type": "markdown",
   "metadata": {},
   "source": [
    "В таблице данные за 2 дня, но так как в задании указано что учитываются решенные задачи именно за месяц я решила учесть это в запросе"
   ]
  },
  {
   "cell_type": "code",
   "execution_count": 35,
   "metadata": {},
   "outputs": [],
   "source": [
    "q1 = \"\"\"WITH \n",
    "            (SELECT MAX(timest) - INTERVAL 1 MONTH\n",
    "            FROM default.peas) as month_ago\n",
    "\n",
    "        SELECT    \n",
    "            COUNT(st_id) as diligent_studs\n",
    "        FROM   \n",
    "            (SELECT \n",
    "                st_id,\n",
    "                SUM(correct) as sum_cor\n",
    "            FROM \n",
    "                default.peas\n",
    "            WHERE timest > month_ago\n",
    "            GROUP BY \n",
    "                st_id\n",
    "            HAVING\n",
    "                sum_cor >= 20\n",
    "            )\n",
    "\"\"\""
   ]
  },
  {
   "cell_type": "code",
   "execution_count": 36,
   "metadata": {},
   "outputs": [
    {
     "data": {
      "text/html": [
       "<div>\n",
       "<style scoped>\n",
       "    .dataframe tbody tr th:only-of-type {\n",
       "        vertical-align: middle;\n",
       "    }\n",
       "\n",
       "    .dataframe tbody tr th {\n",
       "        vertical-align: top;\n",
       "    }\n",
       "\n",
       "    .dataframe thead th {\n",
       "        text-align: right;\n",
       "    }\n",
       "</style>\n",
       "<table border=\"1\" class=\"dataframe\">\n",
       "  <thead>\n",
       "    <tr style=\"text-align: right;\">\n",
       "      <th></th>\n",
       "      <th>diligent_studs</th>\n",
       "    </tr>\n",
       "  </thead>\n",
       "  <tbody>\n",
       "    <tr>\n",
       "      <th>0</th>\n",
       "      <td>136</td>\n",
       "    </tr>\n",
       "  </tbody>\n",
       "</table>\n",
       "</div>"
      ],
      "text/plain": [
       "   diligent_studs\n",
       "0             136"
      ]
     },
     "execution_count": 36,
     "metadata": {},
     "output_type": "execute_result"
    }
   ],
   "source": [
    "df = ph.read_clickhouse(query=q1, connection=connection)\n",
    "df"
   ]
  },
  {
   "cell_type": "markdown",
   "metadata": {},
   "source": [
    "## 2.2 Оптимизация воронки\n",
    "\n",
    "Условие:\n",
    "\n",
    "Образовательная платформа предлагает пройти студентам курсы по модели trial: студент может решить бесплатно лишь 30 горошин в день. Для неограниченного количества заданий в определенной дисциплине студенту необходимо приобрести полный доступ. Команда провела эксперимент, где был протестирован новый экран оплаты.\n",
    "\n",
    "Необходимо в одном запросе выгрузить следующую информацию о группах пользователей:\n",
    "\n",
    "ARPU \n",
    "ARPAU \n",
    "CR в покупку \n",
    "СR активного пользователя в покупку \n",
    "CR пользователя из активности по математике (subject = ’math’) в покупку курса по математике"
   ]
  },
  {
   "cell_type": "code",
   "execution_count": 62,
   "metadata": {},
   "outputs": [],
   "source": [
    "q2 = \"\"\"SELECT \n",
    "            test_grp,\n",
    "            ROUND(SUM(money) / COUNT(DISTINCT st_id), 2) as ARPU,\n",
    "            ROUND(SUM(IF(active = 1, money, 0)) / SUM(active), 2) AS ARPAU,\n",
    "            ROUND(SUM(purchase) / COUNT(st_id) * 100, 2) as cr_purchase,\n",
    "            ROUND(SUM(IF(active = 1, purchase, 0)) / SUM(active) * 100, 2) as cr_active_purchase,\n",
    "            ROUND(SUM(IF(active_math = 1, purchase_math, 0)) / SUM(active_math) * 100, 2) as cr_active_math\n",
    "\n",
    "\n",
    "        FROM\n",
    "            (SELECT \n",
    "                studs.st_id as st_id,\n",
    "                studs.test_grp as test_grp,\n",
    "                purchase.purchase as purchase,\n",
    "                active.active as active,\n",
    "                active_math.active_math as active_math,\n",
    "                purchase_math.purchase_math as purchase_math,\n",
    "                money.money as money\n",
    "            FROM studs\n",
    "\n",
    "            JOIN\n",
    "                (SELECT st_id, if(any(money) = 0, 0,1) as purchase\n",
    "                FROM default.studs\n",
    "                    LEFT JOIN\n",
    "                        (SELECT st_id, money\n",
    "                        FROM default.final_project_check) as checks\n",
    "                    USING(st_id)\n",
    "                    GROUP BY studs.st_id) as purchase\n",
    "            ON studs.st_id = purchase.st_id\n",
    "\n",
    "            JOIN \n",
    "                (SELECT st_id, if(sum_cor > 10, 1, 0) as active\n",
    "                FROM default.studs\n",
    "                LEFT JOIN\n",
    "                    (SELECT \n",
    "                        st_id,\n",
    "                        SUM(correct) as sum_cor\n",
    "                    FROM default.peas\n",
    "                    GROUP BY st_id) as peas\n",
    "                USING(st_id)) as active\n",
    "            ON studs.st_id = active.st_id\n",
    "\n",
    "            JOIN\n",
    "                (SELECT st_id, if(sum_cor >= 2, 1, 0) as active_math\n",
    "                FROM default.studs\n",
    "                LEFT JOIN\n",
    "                    (SELECT \n",
    "                        st_id,\n",
    "                        SUM(correct) as sum_cor\n",
    "                    FROM default.peas\n",
    "                    WHERE subject = 'Math'\n",
    "                    GROUP BY st_id\n",
    "                    ) as peas\n",
    "                USING(st_id)) as active_math\n",
    "            ON studs.st_id = active_math.st_id\n",
    "\n",
    "            LEFT JOIN\n",
    "                (SELECT st_id, SUM(money) as money\n",
    "                FROM default.final_project_check\n",
    "                GROUP BY st_id) as money\n",
    "            ON studs.st_id = money.st_id\n",
    "\n",
    "            LEFT JOIN \n",
    "                (SELECT st_id, 1 as purchase_math\n",
    "                FROM default.final_project_check\n",
    "                WHERE subject = 'Math'\n",
    "                ) as purchase_math\n",
    "            ON studs.st_id = purchase_math.st_id\n",
    "            ) as table\n",
    "\n",
    "        GROUP BY test_grp\"\"\""
   ]
  },
  {
   "cell_type": "code",
   "execution_count": 63,
   "metadata": {},
   "outputs": [
    {
     "data": {
      "text/html": [
       "<div>\n",
       "<style scoped>\n",
       "    .dataframe tbody tr th:only-of-type {\n",
       "        vertical-align: middle;\n",
       "    }\n",
       "\n",
       "    .dataframe tbody tr th {\n",
       "        vertical-align: top;\n",
       "    }\n",
       "\n",
       "    .dataframe thead th {\n",
       "        text-align: right;\n",
       "    }\n",
       "</style>\n",
       "<table border=\"1\" class=\"dataframe\">\n",
       "  <thead>\n",
       "    <tr style=\"text-align: right;\">\n",
       "      <th></th>\n",
       "      <th>test_grp</th>\n",
       "      <th>ARPU</th>\n",
       "      <th>ARPAU</th>\n",
       "      <th>cr_purchase</th>\n",
       "      <th>cr_active_purchase</th>\n",
       "      <th>cr_active_math</th>\n",
       "    </tr>\n",
       "  </thead>\n",
       "  <tbody>\n",
       "    <tr>\n",
       "      <th>0</th>\n",
       "      <td>control</td>\n",
       "      <td>4540.98</td>\n",
       "      <td>10393.70</td>\n",
       "      <td>4.92</td>\n",
       "      <td>11.02</td>\n",
       "      <td>6.12</td>\n",
       "    </tr>\n",
       "    <tr>\n",
       "      <th>1</th>\n",
       "      <td>pilot</td>\n",
       "      <td>11508.47</td>\n",
       "      <td>29739.58</td>\n",
       "      <td>10.85</td>\n",
       "      <td>26.04</td>\n",
       "      <td>9.52</td>\n",
       "    </tr>\n",
       "  </tbody>\n",
       "</table>\n",
       "</div>"
      ],
      "text/plain": [
       "  test_grp      ARPU     ARPAU  cr_purchase  cr_active_purchase  \\\n",
       "0  control   4540.98  10393.70         4.92               11.02   \n",
       "1    pilot  11508.47  29739.58        10.85               26.04   \n",
       "\n",
       "   cr_active_math  \n",
       "0            6.12  \n",
       "1            9.52  "
      ]
     },
     "execution_count": 63,
     "metadata": {},
     "output_type": "execute_result"
    }
   ],
   "source": [
    "df = ph.read_clickhouse(query=q2, connection=connection)\n",
    "df"
   ]
  },
  {
   "cell_type": "markdown",
   "metadata": {},
   "source": [
    "# Задание 3. Python\n",
    "\n",
    "#### 1. Реализуйте функцию, которая будет автоматически подгружать информацию из дополнительного файла groups_add.csv (заголовки могут отличаться) и на основании дополнительных параметров пересчитывать метрики."
   ]
  },
  {
   "cell_type": "code",
   "execution_count": 22,
   "metadata": {},
   "outputs": [],
   "source": [
    "def recalculate_metrics(groups, checks, active_studs, link_to_new_df):\n",
    "    \n",
    "    # загрузка дополнительного файла\n",
    "    base_url = 'https://cloud-api.yandex.net/v1/disk/public/resources/download?'\n",
    "    response = requests.get(base_url + urlencode(dict(public_key=link_to_new_df))).json()['href'] \n",
    "    first_value = pd.read_csv(response, sep='w').iloc[:,0][0]\n",
    "    try:\n",
    "        sep = re.compile('([,;\\\\t])').search(first_value).group(1)\n",
    "        new_df = pd.read_csv(response, sep=sep)\n",
    "    except:\n",
    "        new_df = pd.read_csv(response)\n",
    "    \n",
    "    # переименовываем столбцы, на случай если их названия отличаются и соединяем таблицы\n",
    "    new_df.columns = ['id', 'grp']\n",
    "    groups = pd.concat([groups, new_df], ignore_index=True)\n",
    "    \n",
    "    # предобработка\n",
    "    \n",
    "    # создание итогового датафрейма для дальнейшего расчета метрик\n",
    "    data = checks.rename(columns={'student_id': 'id'}) \\\n",
    "        .merge(groups, on='id', how='right') \\\n",
    "        .merge(active_studs, left_on= 'id', right_on='student_id', how='left') \n",
    "    data = data[-(pd.isna(data.rev) & pd.isna(data.student_id))].drop(columns='student_id')\n",
    "    data['conversed'] = data.apply(lambda x: 0 if pd.isna(x.rev) else 1, axis=1)\n",
    "    \n",
    "    # расчет метрик\n",
    "    mean_revenue_per_paying_user   = data.groupby('grp').agg({'rev': 'mean'})\n",
    "    cr_to_purchase                 = data.groupby('grp').agg({'conversed': 'mean'})\n",
    "    \n",
    "    # соединяем таблицы\n",
    "    df = pd.concat([mean_revenue_per_paying_user, cr_to_purchase], axis=1)\n",
    "    \n",
    "    return df"
   ]
  },
  {
   "cell_type": "markdown",
   "metadata": {},
   "source": [
    "Применяем функцию"
   ]
  },
  {
   "cell_type": "code",
   "execution_count": 23,
   "metadata": {},
   "outputs": [
    {
     "data": {
      "text/html": [
       "<div>\n",
       "<style scoped>\n",
       "    .dataframe tbody tr th:only-of-type {\n",
       "        vertical-align: middle;\n",
       "    }\n",
       "\n",
       "    .dataframe tbody tr th {\n",
       "        vertical-align: top;\n",
       "    }\n",
       "\n",
       "    .dataframe thead th {\n",
       "        text-align: right;\n",
       "    }\n",
       "</style>\n",
       "<table border=\"1\" class=\"dataframe\">\n",
       "  <thead>\n",
       "    <tr style=\"text-align: right;\">\n",
       "      <th></th>\n",
       "      <th>rev</th>\n",
       "      <th>conversed</th>\n",
       "    </tr>\n",
       "    <tr>\n",
       "      <th>grp</th>\n",
       "      <th></th>\n",
       "      <th></th>\n",
       "    </tr>\n",
       "  </thead>\n",
       "  <tbody>\n",
       "    <tr>\n",
       "      <th>A</th>\n",
       "      <td>860.710280</td>\n",
       "      <td>0.068283</td>\n",
       "    </tr>\n",
       "    <tr>\n",
       "      <th>B</th>\n",
       "      <td>1108.824893</td>\n",
       "      <td>0.062690</td>\n",
       "    </tr>\n",
       "  </tbody>\n",
       "</table>\n",
       "</div>"
      ],
      "text/plain": [
       "             rev  conversed\n",
       "grp                        \n",
       "A     860.710280   0.068283\n",
       "B    1108.824893   0.062690"
      ]
     },
     "execution_count": 23,
     "metadata": {},
     "output_type": "execute_result"
    }
   ],
   "source": [
    "df = recalculate_metrics(groups, checks, active_studs, 'https://disk.yandex.ru/d/5Kxrz02m3IBUwQ')\n",
    "df"
   ]
  },
  {
   "cell_type": "markdown",
   "metadata": {},
   "source": [
    "#### 2. Реализуйте функцию, которая будет строить графики по получаемым метрикам."
   ]
  },
  {
   "cell_type": "code",
   "execution_count": 24,
   "metadata": {},
   "outputs": [],
   "source": [
    "def make_barplots(df):\n",
    "    fig, axes = plt.subplots(nrows=1, ncols=2, figsize=(20, 5))\n",
    "    titles = ['ARPPU',\n",
    "              'CR в покупку']\n",
    "    columns = ['rev', 'conversed']\n",
    "    colors = ['olive', 'salmon']\n",
    "\n",
    "    for i, ax in enumerate(axes.flatten()):\n",
    "        ax.bar(df.index, df[columns[i]], color=colors[i])\n",
    "        ax.set_title(titles[i])"
   ]
  },
  {
   "cell_type": "code",
   "execution_count": 25,
   "metadata": {},
   "outputs": [
    {
     "data": {
      "image/png": "[encoded data removed]",
      "text/plain": [
       "<Figure size 1440x360 with 2 Axes>"
      ]
     },
     "metadata": {
      "needs_background": "light"
     },
     "output_type": "display_data"
    }
   ],
   "source": [
    "make_barplots(df)"
   ]
  }
 ],
 "metadata": {
  "kernelspec": {
   "display_name": "Python 3",
   "language": "python",
   "name": "python3"
  },
  "language_info": {
   "codemirror_mode": {
    "name": "ipython",
    "version": 3
   },
   "file_extension": ".py",
   "mimetype": "text/x-python",
   "name": "python",
   "nbconvert_exporter": "python",
   "pygments_lexer": "ipython3",
   "version": "3.7.3"
  }
 },
 "nbformat": 4,
 "nbformat_minor": 4
}
